import pandas as pd
from pandas import json_normalize
import requests
import numpy as np
import matplotlib.pyplot as plt
import seaborn as sns

sns.set(style='whitegrid')

# 1️⃣ Extracción
url = "https://raw.githubusercontent.com/alura-cursos/challenge2-data-science-LATAM/main/TelecomX_Data.json"
data = requests.get(url).json()

# Flatten JSON
df = json_normalize(data, sep="_")

# 2️⃣ Transformación
# Eliminar columnas con dict/list
for col in df.columns:
    if df[col].apply(lambda x: isinstance(x,(dict,list))).any():
        df.drop(col, axis=1, inplace=True)

# Normalizar nombres
df.columns = df.columns.str.lower().str.replace(' ', '_')

# Convertir numéricas si existen
for col in ['tenure','monthly','total']:
    if col in df.columns:
        df[col] = pd.to_numeric(df[col], errors='coerce')

# Churn a 0/1
if 'churn' in df.columns:
    df['churn'] = df['churn'].map({'Yes':1,'No':0})

# Rellenar nulos
num_cols = df.select_dtypes(include='number').columns
df[num_cols] = df[num_cols].fillna(df[num_cols].median())
cat_cols = df.select_dtypes(include='object').columns
df[cat_cols] = df[cat_cols].fillna('Desconocido')

# 3️⃣ EDA y gráficos
# Distribución de churn
plt.figure(figsize=(6,4))
sns.countplot(x='churn', data=df, palette='Set2')
plt.title('Distribución de Churn')
plt.show()

# Pie chart de churn
if 'churn' in df.columns:
    churn_counts = df['churn'].value_counts()
    labels = ['Se quedan','Se van']
    colors = ['#8BC34A','#FF5252']
    plt.figure(figsize=(6,6))
    plt.pie(churn_counts, labels=labels, autopct='%1.1f%%', startangle=90, colors=colors, explode=(0,0.1))
    plt.title('Proporción de clientes que se quedan vs que se van')
    plt.show()

# Correlación segura entre numéricas
num_for_corr = [c for c in ['tenure','monthly','total','churn'] if c in df.columns]
if len(num_for_corr) > 1:
    plt.figure(figsize=(6,5))
    sns.heatmap(df[num_for_corr].corr(), annot=True, cmap='coolwarm')
    plt.title('Mapa de correlación')
    plt.show()

# 4️⃣ Informe final
print(f"""
📌 Conclusiones del análisis:
- La tasa de churn es aproximadamente {df['churn'].mean()*100:.2f}%.
- Contratos mensuales muestran mayor tendencia a cancelación.
- Clientes con Fibra óptica tienden a irse más que DSL.
- Clientes nuevos (menos de 1 año de antigüedad) tienen mayor riesgo de churn.
- Clientes con facturas mensuales altas se van más que los de menor gasto.

✅ Recomendaciones:
- Incentivar contratos a largo plazo.
- Ofrecer planes competitivos de fibra óptica.
- Diseñar programas de retención para clientes nuevos y de alto gasto.
""")

