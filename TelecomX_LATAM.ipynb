{
 "nbformat": 4,
 "nbformat_minor": 5,
 "metadata": {
  "kernelspec": {
   "name": "python3",
   "display_name": "Python 3"
  },
  "language_info": {
   "name": "python"
  }
 },
 "cells": [
  {
   "cell_type": "markdown",
   "metadata": {},
   "source": [
    "# 📌 Extracción\n",
    "Se descargan los datos de la API JSON de TelecomX y se aplanan usando `json_normalize`."
   ]
  },
  {
   "cell_type": "code",
   "metadata": {},
   "execution_count": null,
   "source": [
    "import pandas as pd\n",
    "from pandas import json_normalize\n",
    "import requests\n",
    "\n",
    "# Descargar datos\n",
    "url = \"https://raw.githubusercontent.com/alura-cursos/challenge2-data-science-LATAM/main/TelecomX_Data.json\"\n",
    "data = requests.get(url).json()\n",
    "\n",
    "# Flatten del JSON\n",
    "df = json_normalize(data, sep=\"_\")\n",
    "df.head()"
   ],
   "outputs": []
  },
  {
   "cell_type": "markdown",
   "metadata": {},
   "source": [
    "# 🔧 Transformación\n",
    "Se limpian columnas problemáticas, se normalizan nombres, se convierten tipos y se rellenan nulos."
   ]
  },
  {
   "cell_type": "code",
   "metadata": {},
   "execution_count": null,
   "source": [
    "import numpy as np\n",
    "\n",
    "# Eliminar columnas con dict o list\n",
    "for col in df.columns:\n",
    "    if df[col].apply(lambda x: isinstance(x, (dict,list))).any():\n",
    "        df.drop(col, axis=1, inplace=True)\n",
    "\n",
    "# Normalizar nombres\n",
    "df.columns = df.columns.str.lower().str.replace(' ', '_')\n",
    "\n",
    "# Convertir columnas numéricas si existen\n",
    "for col in ['tenure','monthly','total']:\n",
