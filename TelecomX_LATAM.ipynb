{
  "nbformat": 4,
  "nbformat_minor": 0,
  "metadata": {
    "colab": {
      "provenance": []
    },
    "kernelspec": {
      "name": "python3",
      "display_name": "Python 3"
    },
    "language_info": {
      "name": "python"
    }
  },
  "cells": [
    {
      "cell_type": "markdown",
      "source": [
        "# 📌 Extracción\n",
        "Se descargan los datos de la API JSON de TelecomX y se aplanan usando `json_normalize`."
      ],
      "metadata": {}
    },
    {
      "cell_type": "code",
      "source": [
        "import pandas as pd\n",
        "from pandas import json_normalize\n",
        "import requests\n",
        "\n",
        "# Descargar datos\n",
        "url = \"https://raw.githubusercontent.com/alura-cursos/challenge2-data-science-LATAM/main/TelecomX_Data.json\"\n",
        "data = requests.get(url).json()\n",
        "\n",
        "# Flatten del JSON\n",
        "df = json_normalize(data, sep=\"_\")\n",
        "df.head()"
      ],
      "metadata": {}
    },
    {
      "cell_type": "markdown",
      "source": [
        "# 🔧 Transformación\n",
        "Se limpian columnas problemáticas, se normalizan nombres, se convierten tipos y se rellenan nulos."
      ],
      "metadata": {}
    },
    {
      "cell_type": "code",
      "source": [
        "import numpy as np\n",
        "\n",
        "# Eliminar columnas con dict o list\n",
        "for col in df.columns:\n",
        "    if df[col].apply(lambda x: isinstance(x, (dict,list))).any():\n",
        "        df.drop(col, axis=1, inplace=True)\n",
        "\n",
        "# Normalizar nombres\n",
        "df.columns = df.columns.str.lower().str.replace(' ', '_')\n",
        "\n",
        "# Convertir columnas numéricas\n",
        "for col in ['tenure','monthlycharges','totalcharges']:\n",
        "    if col in df.columns:\n",
        "        df[col] = pd.to_numeric(df[col], errors='coerce')\n",
        "\n",
        "# Churn a 0/1\n",
        "if 'churn' in df.columns:\n",
        "    df['churn'] = df['churn'].map({'Yes':1,'No':0})\n",
        "\n",
        "# Rellenar nulos\n",
        "num_cols = df.select_dtypes(include='number').columns\n",
        "df[num_cols] = df[num_cols].fillna(df[num_cols].median())\n",
        "cat_cols = df.select_dtypes(include='object').columns\n",
        "df[cat_cols] = df[cat_cols].fillna('Desconocido')\n",
        "\n",
        "df.head()"
      ],
      "metadata": {}
    },
    {
      "cell_type": "markdown",
      "source": [
        "# 📊 Carga y análisis\n",
        "Se realiza análisis exploratorio de datos con gráficos y se calcula correlación entre variables."
      ],
      "metadata": {}
    },
    {
      "cell_type": "code",
      "source": [
        "import matplotlib.pyplot as plt\n",
        "import seaborn as sns\n",
        "sns.set(style='whitegrid')\n",
        "\n",
        "# Distribución de churn\n",
        "plt.figure(figsize=(6,4))\n",
        "sns.countplot(x='churn', data=df, palette='Set2')\n",
        "plt.title('Distribución de Churn')\n",
        "plt.show()\n",
        "\n",
        "# Churn por contrato\n",
        "if 'contract' in df.columns:\n",
        "    plt.figure(figsize=(7,5))\n",
        "    sns.countplot(x='contract', hue='churn', data=df, palette='Set1')\n",
        "    plt.title('Churn según tipo de contrato')\n",
        "    plt.show()\n",
        "\n",
        "# Pie chart de Churn\n",
        "churn_counts = df['churn'].value_counts()\n",
        "labels = ['Se quedan','Se van']\n",
        "colors = ['#8BC34A','#FF5252']\n",
        "plt.figure(figsize=(6,6))\n",
        "plt.pie(churn_counts, labels=labels, autopct='%1.1f%%', startangle=90, colors=colors, explode=(0,0.1))\n",
        "plt.title('Proporción de clientes que se quedan vs que se van (Churn)')\n",
        "plt.show()\n",
        "\n",
        "# Correlación entre numéricas\n",
        "num_for_corr = [col for col in ['tenure','monthlycharges','totalcharges','churn'] if col in df.columns]\n",
        "plt.figure(figsize=(6,5))\n",
        "sns.heatmap(df[num_for_corr].corr(), annot=True, cmap='coolwarm')\n",
        "plt.title('Mapa de correlación')\n",
        "plt.show()"
      ],
      "metadata": {}
    },
    {
      "cell_type": "markdown",
      "source": [
        "# 📄 Informe final\n",
        "Se presentan conclusiones y recomendaciones basadas en el análisis de Churn."
      ],
      "metadata": {}
    },
    {
      "cell_type": "code",
      "source": [
        "print(f'''\n",
        "📌 Conclusiones del análisis:\n",
        "1. La tasa de churn es aproximadamente {df['churn'].mean()*100:.2f}%.\n",
        "2. Contratos mensuales muestran mayor tendencia a cancelación.\n",
        "3. Clientes con Fibra óptica tienden a irse más que DSL.\n",
        "4. Clientes nuevos (menos de 1 año de antigüedad) tienen mayor riesgo de churn.\n",
        "5. Clientes con facturas mensuales altas se van más que los de menor gasto.\n",
        "\n",
        "✅ Recomendaciones:\n",
        "- Incentivar contratos a largo plazo.\n",
        "- Ofrecer planes competitivos de fibra óptica.\n",
        "- Diseñar programas de retención para clientes nuevos y de alto gasto.\n",
        "''')"
      ],
      "metadata": {}
    }
  ]
}
